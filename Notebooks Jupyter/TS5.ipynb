{
 "cells": [
  {
   "cell_type": "code",
   "execution_count": null,
   "id": "5c37d711",
   "metadata": {},
   "outputs": [],
   "source": [
    "import sympy as sp\n",
    "from sympy.abc import s\n",
    "\n",
    "from pytc2.sistemas_lineales import analyze_sys, parametrize_sos, pretty_print_lti, pretty_print_bicuad_omegayq, tf2sos_analog, pretty_print_SOS\n",
    "from pytc2.general import print_latex, print_subtitle"
   ]
  },
  {
   "cell_type": "code",
   "execution_count": null,
   "id": "45a14dac",
   "metadata": {},
   "outputs": [],
   "source": [
    "Q_BP = 5\n",
    "\n"
   ]
  }
 ],
 "metadata": {
  "kernelspec": {
   "display_name": "Python 3 (ipykernel)",
   "language": "python",
   "name": "python3"
  },
  "language_info": {
   "codemirror_mode": {
    "name": "ipython",
    "version": 3
   },
   "file_extension": ".py",
   "mimetype": "text/x-python",
   "name": "python",
   "nbconvert_exporter": "python",
   "pygments_lexer": "ipython3",
   "version": "3.11.3"
  }
 },
 "nbformat": 4,
 "nbformat_minor": 5
}
