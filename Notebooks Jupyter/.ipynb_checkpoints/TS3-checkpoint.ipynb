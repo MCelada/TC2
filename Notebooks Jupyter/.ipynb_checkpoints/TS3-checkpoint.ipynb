{
 "cells": [
  {
   "cell_type": "markdown",
   "id": "3dfda417",
   "metadata": {},
   "source": [
    "#  Tarea Semanal 3"
   ]
  },
  {
   "cell_type": "markdown",
   "id": "4454ddef",
   "metadata": {},
   "source": [
    "### Matias Celada "
   ]
  },
  {
   "cell_type": "markdown",
   "id": "3606d8f9",
   "metadata": {},
   "source": [
    "##### 07/05"
   ]
  },
  {
   "cell_type": "code",
   "execution_count": 1,
   "id": "99dea2c7",
   "metadata": {},
   "outputs": [
    {
     "data": {
      "text/html": [
       "\n",
       "        <iframe\n",
       "            width=\"1000\"\n",
       "            height=\"1000\"\n",
       "            src=\"./TS3.pdf\"\n",
       "            frameborder=\"0\"\n",
       "            allowfullscreen\n",
       "            \n",
       "        ></iframe>\n",
       "        "
      ],
      "text/plain": [
       "<IPython.lib.display.IFrame at 0x205ef7c6890>"
      ]
     },
     "execution_count": 1,
     "metadata": {},
     "output_type": "execute_result"
    }
   ],
   "source": [
    "from IPython.display import IFrame\n",
    "IFrame(\"./TS3.pdf\", width=1000, height=1000)"
   ]
  },
  {
   "cell_type": "code",
   "execution_count": null,
   "id": "24780a07",
   "metadata": {},
   "outputs": [],
   "source": []
  }
 ],
 "metadata": {
  "kernelspec": {
   "display_name": "Python 3 (ipykernel)",
   "language": "python",
   "name": "python3"
  },
  "language_info": {
   "codemirror_mode": {
    "name": "ipython",
    "version": 3
   },
   "file_extension": ".py",
   "mimetype": "text/x-python",
   "name": "python",
   "nbconvert_exporter": "python",
   "pygments_lexer": "ipython3",
   "version": "3.10.11"
  }
 },
 "nbformat": 4,
 "nbformat_minor": 5
}
